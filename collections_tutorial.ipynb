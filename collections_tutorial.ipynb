{
 "cells": [
  {
   "cell_type": "code",
   "execution_count": null,
   "metadata": {},
   "outputs": [],
   "source": [
    "data = ['ACME', 50, 91.1, (2012, 12, 21)]"
   ]
  },
  {
   "cell_type": "code",
   "execution_count": null,
   "metadata": {},
   "outputs": [],
   "source": [
    "name, shares, price, date = data \n",
    "print(date)"
   ]
  },
  {
   "cell_type": "code",
   "execution_count": null,
   "metadata": {},
   "outputs": [],
   "source": [
    "s = 'Hello'\n",
    "a,b,c,d,e = s\n",
    "print(s)\n",
    "print(a,b,c,d,e)"
   ]
  },
  {
   "cell_type": "code",
   "execution_count": null,
   "metadata": {},
   "outputs": [],
   "source": [
    "record = ('Dave', 'dave@example.com', '773-555-1212', '847-555-1212')\n",
    "name, email, *phone_numbers = record \n",
    "print(name, email, phone_numbers)"
   ]
  },
  {
   "cell_type": "code",
   "execution_count": null,
   "metadata": {},
   "outputs": [],
   "source": [
    "*trailing, current = [10, 8, 7, 1, 9, 5, 10, 3]\n",
    "print(current, *trailing)"
   ]
  },
  {
   "cell_type": "code",
   "execution_count": null,
   "metadata": {},
   "outputs": [],
   "source": [
    "record = [\n",
    "    ('foo', 1, 2),\n",
    "    ('bar', 'hello'),\n",
    "    ('foo', 3, 4),\n",
    "]\n",
    "def do_foo(x,y):\n",
    "    print('foo', x, y)\n",
    "\n",
    "def do_bar(s):\n",
    "    print('bar', s)\n",
    "\n",
    "for tag, *args in record:\n",
    "    if tag == 'foo':\n",
    "        do_foo(*args)\n",
    "    elif tag == 'bar':\n",
    "        do_bar(*args)"
   ]
  },
  {
   "cell_type": "code",
   "execution_count": null,
   "metadata": {},
   "outputs": [],
   "source": [
    "line = 'nobody:*:-2:-2:Unprivileged User:/var/empty:/usr/bin/false'\n",
    "uname, *fields, homedir, sh = line.split(':')\n",
    "print(uname, homedir, sh)"
   ]
  },
  {
   "cell_type": "code",
   "execution_count": null,
   "metadata": {},
   "outputs": [],
   "source": [
    "record = ('ACME', 50, 123.45, (12, 18, 2012))\n",
    "name, *_, (*_, year) = record\n",
    "print(name, year)"
   ]
  },
  {
   "cell_type": "code",
   "execution_count": null,
   "metadata": {},
   "outputs": [],
   "source": [
    "items = [1, 10, 7, 4, 5, 9]\n",
    "head, *tail = items \n",
    "print(tail, head)"
   ]
  },
  {
   "cell_type": "code",
   "execution_count": null,
   "metadata": {},
   "outputs": [],
   "source": [
    "def sum(items):\n",
    "    head, *tail = items \n",
    "    return head + sum(tail) if tail else head \n",
    "print(sum([1,2,3,4,5]))"
   ]
  },
  {
   "cell_type": "code",
   "execution_count": null,
   "metadata": {},
   "outputs": [],
   "source": [
    "#  rotational deque\n",
    "q = deque(maxlen=3)\n",
    "q.append(1)\n",
    "q.append(2)\n",
    "q.append(3)\n",
    "q.append(4)\n",
    "q.append(5)\n",
    "print(list(q))"
   ]
  },
  {
   "cell_type": "code",
   "execution_count": null,
   "metadata": {},
   "outputs": [],
   "source": [
    "from collections import deque\n",
    "\n",
    "def search(lines, pattern, history=5):\n",
    "    previous_lines = deque(maxlen=history)\n",
    "    for line in lines:\n",
    "        if pattern in line:\n",
    "            yield line, previous_lines\n",
    "        previous_lines.append(line)\n",
    "        "
   ]
  },
  {
   "cell_type": "code",
   "execution_count": null,
   "metadata": {},
   "outputs": [],
   "source": [
    "def printer(count):\n",
    "    for i in range(count):\n",
    "        yield '*' * i, 10\n",
    "gen = printer(5) # return generator object each time "
   ]
  },
  {
   "cell_type": "code",
   "execution_count": null,
   "metadata": {},
   "outputs": [],
   "source": [
    "import heapq\n",
    "portfolio = [\n",
    "    {'name': 'IBM', 'shares': 100, 'price': 91.1},\n",
    "    {'name': 'AAPL', 'shares': 50, 'price': 543.22},\n",
    "    {'name': 'FB', 'shares': 200, 'price': 21.09},\n",
    "    {'name': 'HPQ', 'shares': 35, 'price': 31.75},\n",
    "    {'name': 'YHOO', 'shares': 45, 'price': 16.35},\n",
    "    {'name': 'ACME', 'shares': 75, 'price': 115.65}\n",
    "]\n",
    "\n",
    "sorted(portfolio, key=lambda s: s['price'] ,reverse=True)\n",
    "heapq.nsmallest(3, portfolio, key=lambda s : s['price'])\n",
    "heapq.nlargest(3, portfolio, key=lambda s : s['price'])\n",
    "heap = [1,8,2,23,7,-4,18,23,42,37,2]\n",
    "heapq.heapify(heap)\n",
    "print(heap)\n",
    "print(heapq.heappop(heap))\n",
    "print(heapq.heappop(heap))\n"
   ]
  },
  {
   "cell_type": "code",
   "execution_count": null,
   "metadata": {},
   "outputs": [],
   "source": [
    "import heapq\n",
    "heapq.nsmallest(3, [5,4,3,23,1,-1])"
   ]
  },
  {
   "cell_type": "code",
   "execution_count": null,
   "metadata": {},
   "outputs": [],
   "source": [
    "# Priority Queue \n",
    "import heapq \n",
    "class PriorityQueue:\n",
    "    def __init__(self):\n",
    "        self._queue = []\n",
    "        self._index = 0\n",
    "\n",
    "    # this extra _index helps to compare the value with same priority\n",
    "    def push(self, item, priority):\n",
    "        heapq.heappush(self._queue, (-priority, self._index, item))\n",
    "        self._index += 1\n",
    "    \n",
    "    def pop(self):\n",
    "        return heapq.heappop(self._queue)[-1]\n"
   ]
  },
  {
   "cell_type": "code",
   "execution_count": null,
   "metadata": {},
   "outputs": [],
   "source": [
    "q = PriorityQueue()\n",
    "q.push('task1', 10)\n",
    "q.push('task2', 1)\n",
    "q.push('task3', 10)\n"
   ]
  },
  {
   "cell_type": "code",
   "execution_count": null,
   "metadata": {},
   "outputs": [],
   "source": [
    "# default dict provide a default value \n",
    "from collections import defaultdict \n",
    "d = defaultdict(list)\n",
    "d['a'].append(1)\n",
    "d['b'].append(2)\n",
    "print(d)\n",
    "#  draw back is that it does not raise key exception if undefined key is accessed "
   ]
  },
  {
   "cell_type": "code",
   "execution_count": null,
   "metadata": {},
   "outputs": [],
   "source": [
    "#  for removing the above drawback \n",
    "d = {}\n",
    "d.setdefault('a', []).append(1)\n",
    "d['a'].append(2)\n"
   ]
  },
  {
   "cell_type": "code",
   "execution_count": null,
   "metadata": {},
   "outputs": [],
   "source": [
    "d ={}\n",
    "# it is messy \n",
    "pairs = {'a' : 1, 'b' : 2}\n",
    "for key, value in pairs.items():\n",
    "    if key not in d:\n",
    "        d[key] = []\n",
    "    d[key].append(value)\n",
    "print(pairs)"
   ]
  },
  {
   "cell_type": "code",
   "execution_count": null,
   "metadata": {},
   "outputs": [],
   "source": [
    "d = defaultdict(list)\n",
    "for key, value in pairs.items():\n",
    "    d[key].append(value)\n",
    "print(d)"
   ]
  },
  {
   "cell_type": "code",
   "execution_count": null,
   "metadata": {},
   "outputs": [],
   "source": [
    "from collections import OrderedDict, defaultdict\n",
    "d = OrderedDict()\n",
    "d['foo'] = 1\n",
    "d['bar'] = 2\n",
    "d['spam'] = 3\n",
    "d['grok'] = 4\n",
    "print(d)\n",
    "# ordered dict preserve the order of the insertion \n",
    "# important when we want to serialize or encode data into other formats like json \n",
    "import json\n",
    "print(json.dumps(d))\n"
   ]
  },
  {
   "cell_type": "code",
   "execution_count": null,
   "metadata": {},
   "outputs": [],
   "source": [
    "prices = {\n",
    "    'ACME' : 45.23,\n",
    "    'AAPL' : 612.78,\n",
    "    'IBM' : 205.55,\n",
    "    'HPQ' : 37.20,\n",
    "    'FB' : 10.75\n",
    "}\n",
    "print(min(prices))\n",
    "minimum = min(zip(prices.values(), prices.keys()))\n",
    "maximum = max(zip(prices.values(), prices.keys()))\n",
    "ascending = sorted(zip(prices.values(), prices.keys()),reverse=True)\n",
    "print(minimum, maximum)\n",
    "print(ascending)"
   ]
  },
  {
   "cell_type": "code",
   "execution_count": null,
   "metadata": {},
   "outputs": [],
   "source": [
    "a = {\n",
    "    'x' : 1,\n",
    "    'y' : 2,\n",
    "    'z' : 3\n",
    "}\n",
    "b = {\n",
    "    'w' : 10, \n",
    "    'x' : 11,\n",
    "    'y' : 2 \n",
    "}\n",
    "print(a.keys() & b.keys()) # keys in common \n",
    "print(a.items() & b.items()) # find (key, value) pair common in dictonaries \n",
    "# make a dict with some key removed \n",
    "print({key : a[key] for key in a.keys() - {'z'}})"
   ]
  },
  {
   "cell_type": "code",
   "execution_count": null,
   "metadata": {},
   "outputs": [],
   "source": [
    "# removing the duplicate from a sequence while maintaining the order\n",
    "def dedup(items, key=None):\n",
    "    seen = set()\n",
    "    for item in items:\n",
    "        val = item if key is None else key(item)\n",
    "        if val not in seen:\n",
    "            yield item\n",
    "            seen.add(val)\n",
    "b = [{'x' : 1, 'y':2}, {'x' : 1, 'y' : 3}, {'x' : 1, 'y' : 2}]\n",
    "print(list(dedup(b, key=lambda b : (b['x'], b['y']))))\n",
    "\n",
    "a = [1,2,3,4,3,4,5,2,1]\n",
    "print(list(dedup(a)))\n"
   ]
  },
  {
   "cell_type": "code",
   "execution_count": null,
   "metadata": {},
   "outputs": [],
   "source": [
    "# slices \n",
    "items = [0,1,2,3,4,5]\n",
    "a = slice(2,4,1)\n",
    "print(items[2:4])\n",
    "print(items[a])\n",
    "print(a.start)\n",
    "print(a.stop)\n",
    "print(a.step)"
   ]
  },
  {
   "cell_type": "code",
   "execution_count": null,
   "metadata": {},
   "outputs": [],
   "source": [
    "s  = 'Hello World'\n",
    "a = slice(2, 20, 2)\n",
    "print(a.indices(len(s)))\n",
    "for i in range(*a.indices(len(s))):\n",
    "    print(s[i])"
   ]
  },
  {
   "cell_type": "code",
   "execution_count": null,
   "metadata": {},
   "outputs": [],
   "source": [
    "# most frequently occuring element in a sequence\n",
    "from collections import Counter\n",
    "words = [\n",
    "    'look', 'into', 'my', 'eyes', 'look', 'into', 'my', 'eyes',\n",
    "    'the', 'eyes', 'the', 'eyes', 'the', 'eyes', 'not', 'around', 'the',\n",
    "    'eyes', \"don't\", 'look', 'around', 'the', 'eyes', 'look', 'into',\n",
    "    'my', 'eyes', \"you're\", 'under'\n",
    "]\n",
    "words_counter = Counter(words)\n",
    "top_three = words_counter.most_common(3)\n",
    "print(top_three)\n",
    "a = Counter(\"absbscbd\")\n",
    "b = Counter(\"abdfdsfsd\")\n",
    "print(a)\n",
    "print(b)\n",
    "print(a+b)\n",
    "print(a-b)\n",
    "print(a | b)"
   ]
  },
  {
   "cell_type": "code",
   "execution_count": null,
   "metadata": {},
   "outputs": [],
   "source": [
    "# sort row according to the a key \n",
    "rows = [\n",
    "    {\"fname\": \"Brian\", \"lname\": \"Jones\", \"uid\": 1003},\n",
    "    {\"fname\": \"David\", \"lname\": \"Beazley\", \"uid\": 1002},\n",
    "    {\"fname\": \"John\", \"lname\": \"Cleese\", \"uid\": 1001},\n",
    "]\n",
    "print(min(rows, key=itemgetter('uid')))\n",
    "print(max(rows, key=itemgetter('uid')))\n",
    "from operator import itemgetter \n",
    "rows_by_frame = sorted(rows, key=lambda d : d.get('lname'))\n",
    "rows_by_lfname = sorted(rows, key=itemgetter('lname', 'fname'))\n",
    "print(rows_by_frame)"
   ]
  },
  {
   "cell_type": "code",
   "execution_count": null,
   "metadata": {},
   "outputs": [],
   "source": [
    "from operator import attrgetter \n",
    "class User :\n",
    "    def __init__(self, user_id):\n",
    "        self.user_id = user_id \n",
    "    def __repr__(self):\n",
    "        return 'User({})'.format(self.user_id)\n",
    "users = [User(23), User(3), User(99)]\n",
    "print(sorted(users, key=lambda u : u.user_id))\n",
    "print(sorted(users, key=attrgetter('user_id')))"
   ]
  },
  {
   "cell_type": "code",
   "execution_count": 9,
   "metadata": {},
   "outputs": [
    {
     "name": "stdout",
     "output_type": "stream",
     "text": [
      "07/01/2012\n",
      "{'address': '5412 N CLARK', 'date': '07/01/2012'}\n",
      "07/02/2012\n",
      "{'address': '5800 E 58TH', 'date': '07/02/2012'}\n",
      "{'address': '5645 N RAVENSWOOD', 'date': '07/02/2012'}\n",
      "{'address': '1060 W ADDISON', 'date': '07/02/2012'}\n",
      "07/03/2012\n",
      "{'address': '2122 N ClARK', 'date': '07/03/2012'}\n",
      "07/04/2012\n",
      "{'address': '5148 N CLARK', 'date': '07/04/2012'}\n",
      "{'address': '4801 N BROADWAY', 'date': '07/04/2012'}\n"
     ]
    }
   ],
   "source": [
    "# grouping records together based on field value\n",
    "rows = [\n",
    "    {'address': '5412 N CLARK', 'date': '07/01/2012'},\n",
    "    {'address': '5148 N CLARK', 'date': '07/04/2012'},\n",
    "    {'address': '5800 E 58TH', 'date': '07/02/2012'},\n",
    "    {'address': '2122 N ClARK', 'date': '07/03/2012'},\n",
    "    {'address': '5645 N RAVENSWOOD', 'date': '07/02/2012'},\n",
    "    {'address': '1060 W ADDISON', 'date':'07/02/2012'},\n",
    "    {'address': '4801 N BROADWAY', 'date' : '07/04/2012'},\n",
    "]\n",
    "\n",
    "from operator import itemgetter\n",
    "from itertools import groupby\n",
    "rows.sort(key = itemgetter('date'))\n",
    "for date, rows in groupby(rows, key=itemgetter('date')):\n",
    "    print(date)\n",
    "    for row in rows:\n",
    "        print(row)"
   ]
  },
  {
   "cell_type": "code",
   "execution_count": 13,
   "metadata": {},
   "outputs": [
    {
     "name": "stdout",
     "output_type": "stream",
     "text": [
      "defaultdict(<class 'list'>, {})\n"
     ]
    }
   ],
   "source": [
    "# does not maintain order \n",
    "from collections import defaultdict\n",
    "rows_by_date = defaultdict(list)\n",
    "for row in rows:\n",
    "    rows_by_date[row['date']].append(row)\n",
    "print(rows_by_date)"
   ]
  },
  {
   "cell_type": "code",
   "execution_count": 18,
   "metadata": {},
   "outputs": [
    {
     "name": "stdout",
     "output_type": "stream",
     "text": [
      "{'AAPL': 612.78, 'IBM': 205.55}\n"
     ]
    }
   ],
   "source": [
    "prices = {\n",
    "    'ACME' : 45.23,\n",
    "    'AAPL' : 612.78,\n",
    "    'IBM' : 205.55,\n",
    "    'HPQ' : 37.20,\n",
    "    'FB' : 10.75\n",
    "}\n",
    "\n",
    "p1 = { key : value for key, value in prices.items() if value > 200}\n",
    "print(p1)"
   ]
  },
  {
   "cell_type": "code",
   "execution_count": 22,
   "metadata": {},
   "outputs": [
    {
     "name": "stdout",
     "output_type": "stream",
     "text": [
      "[223, 12, 34]\n"
     ]
    }
   ],
   "source": [
    "l = [1, 223, 10  ,12 , 34, 1 ]\n",
    "d = [True if i > 10 else False for i in  l]\n",
    "from itertools import compress\n",
    "print(list(compress(l, d)))"
   ]
  },
  {
   "cell_type": "code",
   "execution_count": 24,
   "metadata": {},
   "outputs": [
    {
     "name": "stdout",
     "output_type": "stream",
     "text": [
      "Subscriber(addr='rahulbeniwal@gmail.com', joined='2012-10-19')\n"
     ]
    }
   ],
   "source": [
    "from collections import namedtuple\n",
    "Subscriber = namedtuple('Subscriber', ['addr', 'joined'])\n",
    "sub = Subscriber('rahulbeniwal@gmail.com', '2012-10-19')\n",
    "print(sub)"
   ]
  },
  {
   "cell_type": "code",
   "execution_count": 27,
   "metadata": {},
   "outputs": [],
   "source": [
    "def compute_cost(records):\n",
    "    total = 0.0 \n",
    "    for rec in records:\n",
    "        total += rec[1] * rec[2]\n",
    "    return total\n",
    "\n"
   ]
  },
  {
   "cell_type": "code",
   "execution_count": 37,
   "metadata": {},
   "outputs": [
    {
     "name": "stdout",
     "output_type": "stream",
     "text": [
      "Stock(name='ACME', shares=44, price=123.45)\n"
     ]
    }
   ],
   "source": [
    "from collections import namedtuple\n",
    "Stock = namedtuple('Stock', ['name', 'shares', 'price'])\n",
    "def compute_cost(records):\n",
    "    total= 0.0\n",
    "    for rec in records:\n",
    "        s = Stock(*records)\n",
    "        total += s.shares.shared * s.price \n",
    "    return total \n",
    "s = Stock('ACME', 100, 123.45)\n",
    "s = s._replace(shares=44)\n",
    "print(s)"
   ]
  },
  {
   "cell_type": "code",
   "execution_count": 47,
   "metadata": {},
   "outputs": [
    {
     "name": "stdout",
     "output_type": "stream",
     "text": [
      "Stack(name='', shares=0, price=0.0, date=None, time=None)\n",
      "[Stack(name='ACME', shares=100, price=123.45, date='2012-02-01', time='09:00'), Stack(name='APPL', shares=100, price=123.45, date='2012-02-01', time='09:00')]\n"
     ]
    }
   ],
   "source": [
    "Stock = namedtuple('Stack', ['name', 'shares', 'price', 'date', 'time'])\n",
    "stock_prototype = Stock('AAPL', 100, 123.45, '2012-02-01', '09:00')\n",
    "def dict_to_stock(s):\n",
    "    return stock_prototype._replace(**s)\n",
    "\n",
    "\n",
    "a = {\n",
    "    'name': 'ACME',\n",
    "    'shares': 100,\n",
    "    'price': 123.45,\n",
    "    'date': '2012-02-01',\n",
    "    'time': '09:00'\n",
    "}\n",
    "b = {\n",
    "    'name': 'APPL',\n",
    "    'shares': 100,\n",
    "    'price': 123.45,\n",
    "    'date': '2012-02-01',\n",
    "    'time': '09:00'\n",
    "}\n",
    "\n",
    "tuple_list = [Stock(**i) for i in [a,b]]\n",
    "print(Stock(*('', 0, 0.0, None, None)))\n",
    "print(tuple_list)"
   ]
  },
  {
   "cell_type": "code",
   "execution_count": 57,
   "metadata": {},
   "outputs": [
    {
     "name": "stdout",
     "output_type": "stream",
     "text": [
      "385\n",
      "There is python file\n",
      "ACME,50,123.45\n",
      "20\n"
     ]
    }
   ],
   "source": [
    "nums = [1,2,3,4,5,6,7,8,9,10]\n",
    "print(sum(x * x for x in nums))\n",
    "import os \n",
    "files = os.listdir('.')\n",
    "if any(name.endswith('.py') for name in files):\n",
    "    print(\"There is python file\")\n",
    "else:\n",
    "    print(\"There is no python file\")\n",
    "Stock = namedtuple('Stock', ['name', 'shares', 'price'])\n",
    "s = ('ACME', 50, 123.45)\n",
    "stock_1 = Stock(*s)\n",
    "print(','.join(str(x) for x in stock_1))\n",
    "portfolio = [\n",
    "    {'name': 'GOOG', 'shares': 50},\n",
    "    {'name': 'YHOO', 'shares': 75},\n",
    "    {'name': 'AOL', 'shares': 20},\n",
    "    {'name': 'SCOX', 'shares': 65}\n",
    "]\n",
    "print(min(s['shares'] for s in portfolio))"
   ]
  },
  {
   "cell_type": "code",
   "execution_count": 66,
   "metadata": {},
   "outputs": [
    {
     "data": {
      "text/plain": [
       "{('a', 'b')}"
      ]
     },
     "execution_count": 66,
     "metadata": {},
     "output_type": "execute_result"
    }
   ],
   "source": [
    "a = {'a' : 'b', 'c' : 'd'}\n",
    "b = {'c' : 'd', 'g' : 'h'}\n",
    "a.items() - b.items() "
   ]
  },
  {
   "cell_type": "code",
   "execution_count": 15,
   "metadata": {},
   "outputs": [
    {
     "name": "stdout",
     "output_type": "stream",
     "text": [
      "{'x': 100, 'z': 900, 'y': 200}\n",
      "{'y': 2, 'z': 4}\n",
      "['z', 'y']\n",
      "[200, 900]\n"
     ]
    }
   ],
   "source": [
    "from collections import ChainMap \n",
    "# chainmap takes multiple dicts and make logically appear as one \n",
    "a = {'x' : 1, 'z' : 3}\n",
    "b = {'y' : 2, 'z' : 4}\n",
    "c = ChainMap(a,b)\n",
    "c['x'] = 100\n",
    "c['y'] = 200\n",
    "c['z'] = 900\n",
    "print(a)\n",
    "print(b)\n",
    "del c['x']\n",
    "print([*a.keys()])\n",
    "print(list(c.values()))"
   ]
  },
  {
   "cell_type": "code",
   "execution_count": 21,
   "metadata": {},
   "outputs": [
    {
     "name": "stdout",
     "output_type": "stream",
     "text": [
      "ChainMap({'x': 3}, {'x': 1})\n",
      "ChainMap({'x': 5}, {'x': 3}, {'x': 1})\n",
      "ChainMap({'x': 3}, {'x': 1})\n",
      "ChainMap({'x': 5}, {'x': 3}, {'x': 1})\n"
     ]
    }
   ],
   "source": [
    "values = ChainMap()\n",
    "values['x'] = 1\n",
    "values = values.new_child()\n",
    "values['x'] = 3\n",
    "print(values)\n",
    "values = values.new_child()\n",
    "values['x'] = 5\n",
    "print(values)  \n",
    "# .parent discard the current child and return the parent\n",
    "parent = values.parents\n",
    "print(parent)\n",
    "print(values)"
   ]
  },
  {
   "cell_type": "code",
   "execution_count": 22,
   "metadata": {},
   "outputs": [
    {
     "name": "stdout",
     "output_type": "stream",
     "text": [
      "ChainMap({'x': 1, 'z': 3}, {'y': 2, 'z': 4})\n",
      "{'y': 2, 'z': 3, 'x': 1}\n"
     ]
    }
   ],
   "source": [
    "a = {'x' : 1, 'z' : 3}\n",
    "b = {'y' : 2, 'z' : 4}\n",
    "c = ChainMap(a,b)\n",
    "merged = dict(b)\n",
    "merged.update(a)\n",
    "print(c)\n",
    "print(merged)"
   ]
  }
 ],
 "metadata": {
  "interpreter": {
   "hash": "d6d3086a3c0067c8c8d35751df6724ef66d3a2c6eb13d9f0415b28df57d7b390"
  },
  "kernelspec": {
   "display_name": "Python 3.9.5 64-bit ('venv': venv)",
   "language": "python",
   "name": "python3"
  },
  "language_info": {
   "codemirror_mode": {
    "name": "ipython",
    "version": 3
   },
   "file_extension": ".py",
   "mimetype": "text/x-python",
   "name": "python",
   "nbconvert_exporter": "python",
   "pygments_lexer": "ipython3",
   "version": "3.9.7"
  },
  "orig_nbformat": 4
 },
 "nbformat": 4,
 "nbformat_minor": 2
}
