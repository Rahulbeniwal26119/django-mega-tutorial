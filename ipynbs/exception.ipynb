{
 "cells": [
  {
   "cell_type": "code",
   "execution_count": null,
   "metadata": {},
   "outputs": [],
   "source": [
    "# error detect during exception \n",
    "try:\n",
    "    x = 5/0\n",
    "except ZeroDivisionError as e:\n",
    "    print(\"Got a divide by zero!\", e)\n",
    "    # it wil the original stack trace\n",
    "    raise ArithmeticError(\"There is an arithmentic error\") from e \n",
    "    x = 0\n",
    "finally:\n",
    "    print(\"The End\")"
   ]
  },
  {
   "cell_type": "code",
   "execution_count": null,
   "metadata": {},
   "outputs": [],
   "source": [
    "try:\n",
    "  d ={}\n",
    "runserer  b = d.non_existing_filed\n",
    "except (KeyError, AttributeError) as e:\n",
    "  print('A key or Attibute error')"
   ]
  },
  {
   "cell_type": "code",
   "execution_count": null,
   "metadata": {},
   "outputs": [],
   "source": [
    "try:\n",
    "  d ={}\n",
    "  a = d[1]\n",
    "  b = d.non_existing_filed\n",
    "except KeyError as e:\n",
    "  print('A key error')\n",
    "except AttributeError as e:\n",
    "  print('An Attribute error')\n"
   ]
  },
  {
   "cell_type": "code",
   "execution_count": null,
   "metadata": {},
   "outputs": [],
   "source": [
    "# else -> will only iff no exception was occured\n",
    "try:\n",
    "    data = {1 : '1', 2 : '2'}\n",
    "    print(data[1])\n",
    "except KeyError as e:\n",
    "    print(\"key is not found\")\n",
    "else:\n",
    "    raise ValueError(\"Raise the exception\")"
   ]
  },
  {
   "cell_type": "code",
   "execution_count": 18,
   "metadata": {},
   "outputs": [
    {
     "name": "stdout",
     "output_type": "stream",
     "text": [
      "On branch master\n",
      "Your branch is up to date with 'origin/master'.\n",
      "\n",
      "nothing to commit, working tree clean\n"
     ]
    }
   ],
   "source": [
    "!git status "
   ]
  }
 ],
 "metadata": {
  "interpreter": {
   "hash": "31f2aee4e71d21fbe5cf8b01ff0e069b9275f58929596ceb00d14d90e3e16cd6"
  },
  "kernelspec": {
   "display_name": "Python 3.9.7 64-bit",
   "language": "python",
   "name": "python3"
  },
  "language_info": {
   "codemirror_mode": {
    "name": "ipython",
    "version": 3
   },
   "file_extension": ".py",
   "mimetype": "text/x-python",
   "name": "python",
   "nbconvert_exporter": "python",
   "pygments_lexer": "ipython3",
   "version": "3.9.7"
  },
  "orig_nbformat": 4
 },
 "nbformat": 4,
 "nbformat_minor": 2
}
