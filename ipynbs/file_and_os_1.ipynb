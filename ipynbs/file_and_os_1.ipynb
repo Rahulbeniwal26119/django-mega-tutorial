{
 "cells": [
  {
   "cell_type": "markdown",
   "metadata": {},
   "source": [
    "### File modes\n",
    "- 'r' -> Read the and file must exist \n",
    "- 'w' -> override and existing file or will create new file if not exist\n",
    "- 'r+' -> read and write at same time and file must exist\n",
    "- 'rb' -> read in binary format \n",
    "- 'w+' -> read and write on same file but if file does not exist it will create new file \n",
    "- 'a' -> append after a file and file must exist \n",
    "- 'a+' -> appending and reading mode and it will create new file if does not exist \n",
    "- 'x' -> exclusive read mode file must exist \n",
    "- 'x+' -> exlusive read write will throw a error if file already exist \n",
    "    - exlusive use in python to preserve a file and not accidently delete it \n"
   ]
  },
  {
   "cell_type": "code",
   "execution_count": null,
   "metadata": {},
   "outputs": [],
   "source": [
    "try:\n",
    "    with open('file', 'r') as file:\n",
    "        pass \n",
    "except FileNotFoundError:\n",
    "    print(\"file new does not\")\n"
   ]
  },
  {
   "cell_type": "code",
   "execution_count": null,
   "metadata": {},
   "outputs": [],
   "source": [
    "\n",
    "with open('file', 'r') as fp:\n",
    "    while True:\n",
    "        cur_line = fp.readline()\n",
    "        print(cur_line)\n",
    "        if cur_line == '':\n",
    "            break\n",
    "# for and read line is a bad practice"
   ]
  },
  {
   "cell_type": "code",
   "execution_count": null,
   "metadata": {},
   "outputs": [],
   "source": [
    "with open(\"file\", \"r\") as file:\n",
    "    lines = file.readlines()\n",
    "for line in lines:\n",
    "    print(line)"
   ]
  },
  {
   "cell_type": "code",
   "execution_count": null,
   "metadata": {},
   "outputs": [],
   "source": [
    "# listing files \n",
    "import os\n",
    "print(os.scandir('.'))\n",
    "for i in os.scandir('..'):\n",
    "    if not i.name.startswith('.') and i.is_file():\n",
    "        print(i.name)"
   ]
  },
  {
   "cell_type": "code",
   "execution_count": null,
   "metadata": {},
   "outputs": [],
   "source": [
    "fp = open('file', 'r')\n",
    "content = fp.read()\n",
    "print(content)\n",
    "fp.close()"
   ]
  },
  {
   "cell_type": "code",
   "execution_count": null,
   "metadata": {},
   "outputs": [],
   "source": [
    "# what is os seprator \n",
    "os.linesep"
   ]
  },
  {
   "cell_type": "code",
   "execution_count": 164,
   "metadata": {},
   "outputs": [],
   "source": [
    "with open('file', 'w', encoding='utf-8') as f:\n",
    "    f.write(\"Line 1 \\n\")\n",
    "    f.write(\"utf - 8\")\n",
    "    print(\"Hello World\", file=f)"
   ]
  },
  {
   "cell_type": "code",
   "execution_count": null,
   "metadata": {},
   "outputs": [],
   "source": [
    "with open(\"file\", 'x+') as f:\n",
    "    print(\"Hello you to \", file=f)\n",
    "    print(f.read())"
   ]
  },
  {
   "cell_type": "code",
   "execution_count": null,
   "metadata": {},
   "outputs": [],
   "source": [
    "# check weather file or path exist or not \n",
    "import errno \n",
    "try:\n",
    "    with open('file') as f:\n",
    "        print(\"file exist\")\n",
    "except IOError as e:\n",
    "    print(e.errno)\n",
    "    print(errno.ENOENT)\n",
    "    if e.errno == errno.ENOENT:\n",
    "        print(\"file or dir not found\")\n",
    "    print(e)\n",
    "\n",
    "    "
   ]
  },
  {
   "cell_type": "code",
   "execution_count": null,
   "metadata": {},
   "outputs": [],
   "source": [
    "import pathlib \n",
    "path = pathlib.Path(os.path.abspath(\"file\"))\n",
    "print(path)\n",
    "if path.is_file():\n",
    "    print(\"it is a file path\")\n",
    "from os import path \n",
    "print(path.exists(os.path.abspath(\"file\")))"
   ]
  },
  {
   "cell_type": "code",
   "execution_count": null,
   "metadata": {},
   "outputs": [],
   "source": [
    "import mmap \n",
    "with open(\"file\", 'r+') as f:\n",
    "    print(f.fileno())\n",
    "    mm = mmap.mmap(f.fileno(), 0)\n",
    "    mm[5] = ord('a')\n",
    "    mm.seek(0)\n",
    "    print(mm.read())\n",
    "print(open == os.open)"
   ]
  },
  {
   "cell_type": "code",
   "execution_count": null,
   "metadata": {},
   "outputs": [],
   "source": [
    "# replacing text in a file \n",
    "import fileinput \n",
    "replacements = {'Line' : 'line'}\n",
    "for line in fileinput.input('file', inplace=True):\n",
    "    for search_for in replacements:\n",
    "        line = line.replace(search_for, replacements.get(search_for))\n",
    "    print(line, end='')\n",
    "    # this print is necessary \n",
    "import mmap \n",
    "with open('file', 'r+') as fd:\n",
    "    mm = mmap.mmap(fd.fileno(), 0)\n",
    "    print(mm.read())"
   ]
  },
  {
   "cell_type": "code",
   "execution_count": null,
   "metadata": {},
   "outputs": [],
   "source": [
    "# cheching if file is empty \n",
    "import os \n",
    "os.stat('file').st_size == 0 \n",
    "os.path.getsize('file') == 0\n",
    "\n",
    "# these both will throw error if file is not exist \n",
    "def is_empty_file(f_path):\n",
    "    return os.path.isfile(f_path) and os.path.getsize(f_path)\n",
    "\n",
    "is_empty_file('file')"
   ]
  },
  {
   "cell_type": "code",
   "execution_count": null,
   "metadata": {},
   "outputs": [],
   "source": [
    "# reading a range of lines \n",
    "import itertools\n",
    "with open('file2', 'r') as f:\n",
    "    for line in itertools.islice(f, 3,5):    \n",
    "        print(next(f))  # read the new line \n",
    "        print(line)\n",
    "    # print(next(f))\n",
    "    # print(next(f))"
   ]
  },
  {
   "cell_type": "code",
   "execution_count": null,
   "metadata": {},
   "outputs": [],
   "source": [
    "import shutil \n",
    "source = 'test/test1/'\n",
    "destination = 'test2/test2'\n",
    "shutil.copytree(source, destination)\n",
    "\n",
    "# copy the complete tree and destination should not exits "
   ]
  },
  {
   "cell_type": "code",
   "execution_count": 165,
   "metadata": {},
   "outputs": [],
   "source": [
    "input_file = 'test_file'\n",
    "output = 'file'\n",
    "with open(input_file, 'r') as in_file, open(output, 'a') as out_file:\n",
    "    for line in in_file:\n",
    "        out_file.write(line)"
   ]
  },
  {
   "cell_type": "code",
   "execution_count": 166,
   "metadata": {},
   "outputs": [
    {
     "data": {
      "text/plain": [
       "'file'"
      ]
     },
     "execution_count": 166,
     "metadata": {},
     "output_type": "execute_result"
    }
   ],
   "source": [
    "import shutil \n",
    "shutil.copyfile(input_file, output)"
   ]
  }
 ],
 "metadata": {
  "interpreter": {
   "hash": "916dbcbb3f70747c44a77c7bcd40155683ae19c65e1c03b4aa3499c5328201f1"
  },
  "kernelspec": {
   "display_name": "Python 3.9.7 64-bit",
   "language": "python",
   "name": "python3"
  },
  "language_info": {
   "codemirror_mode": {
    "name": "ipython",
    "version": 3
   },
   "file_extension": ".py",
   "mimetype": "text/x-python",
   "name": "python",
   "nbconvert_exporter": "python",
   "pygments_lexer": "ipython3",
   "version": "3.9.7"
  },
  "orig_nbformat": 4
 },
 "nbformat": 4,
 "nbformat_minor": 2
}
