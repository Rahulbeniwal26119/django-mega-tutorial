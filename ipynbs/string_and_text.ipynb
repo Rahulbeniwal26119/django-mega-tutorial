{
 "cells": [
  {
   "cell_type": "code",
   "execution_count": 2,
   "metadata": {},
   "outputs": [
    {
     "data": {
      "text/plain": [
       "['asdf', 'fjdk', 'afed', 'fjek', 'asdf', 'foo']"
      ]
     },
     "execution_count": 2,
     "metadata": {},
     "output_type": "execute_result"
    }
   ],
   "source": [
    "line = 'asdf fjdk; afed,  fjek,asdf,    foo'\n",
    "import re \n",
    "re.split(r'[;,\\s]\\s*', line)\n"
   ]
  },
  {
   "cell_type": "code",
   "execution_count": 3,
   "metadata": {},
   "outputs": [
    {
     "name": "stdout",
     "output_type": "stream",
     "text": [
      "['asdf', ' ', 'fjdk', ';', 'afed', ',', 'fjek', ',', 'asdf', ',', 'foo']\n",
      "asdf fjdk;afed,fjek,asdf,\n"
     ]
    },
    {
     "data": {
      "text/plain": [
       "['asdf', 'fjdk', 'afed', 'fjek', 'asdf', 'foo']"
      ]
     },
     "execution_count": 3,
     "metadata": {},
     "output_type": "execute_result"
    }
   ],
   "source": [
    "op = re.split(r'(;|,|\\s)\\s*', line)\n",
    "print(op)\n",
    "values = op[::2]\n",
    "delimiter = op[1::2]\n",
    "op = ''.join(v+d for v, d in zip(values, delimiter))\n",
    "print(op)\n",
    "# use no capture group specifier ?:\n",
    "re.split(r'(?:;|,|\\s)\\s*', line)"
   ]
  },
  {
   "cell_type": "code",
   "execution_count": null,
   "metadata": {},
   "outputs": [],
   "source": []
  },
  {
   "cell_type": "code",
   "execution_count": 4,
   "metadata": {},
   "outputs": [
    {
     "name": "stdout",
     "output_type": "stream",
     "text": [
      "True\n"
     ]
    },
    {
     "data": {
      "text/plain": [
       "True"
      ]
     },
     "execution_count": 4,
     "metadata": {},
     "output_type": "execute_result"
    }
   ],
   "source": [
    "filename = \"file.txt\"\n",
    "print(filename.endswith(\"txt\"))\n",
    "url = \"http://www.python.org\"\n",
    "url.startswith(\"http\")\n"
   ]
  },
  {
   "cell_type": "code",
   "execution_count": 5,
   "metadata": {},
   "outputs": [
    {
     "name": "stdout",
     "output_type": "stream",
     "text": [
      "['imp.py', 'file.c', 'temp.py']\n"
     ]
    }
   ],
   "source": [
    "import os \n",
    "files = os.listdir('/home/rahul/')\n",
    "c_py_files = [ file for file in files if file.endswith(('.c', '.py')) ]\n",
    "print(c_py_files)"
   ]
  },
  {
   "cell_type": "code",
   "execution_count": 6,
   "metadata": {},
   "outputs": [],
   "source": [
    "from urllib.request import urlopen\n",
    "def read_data(name):\n",
    "    if name.startswith(('http', 'https','ftp')):\n",
    "        return urlopen(name)\n",
    "    else:\n",
    "        with open(name) as f:\n",
    "            return f.read()"
   ]
  },
  {
   "cell_type": "code",
   "execution_count": 7,
   "metadata": {},
   "outputs": [
    {
     "data": {
      "text/plain": [
       "True"
      ]
     },
     "execution_count": 7,
     "metadata": {},
     "output_type": "execute_result"
    }
   ],
   "source": [
    "from fnmatch import translate, fnmatch, fnmatchcase\n",
    "fnmatch('foo.txt', '*.txt')\n",
    "fnmatch('foo.txt', '?oo.txt')\n",
    "fnmatch('Dat45.csv', 'Dat[0-9]*')"
   ]
  },
  {
   "cell_type": "code",
   "execution_count": 16,
   "metadata": {},
   "outputs": [
    {
     "data": {
      "text/plain": [
       "['5412 n clark st', '5412 w clark st']"
      ]
     },
     "execution_count": 16,
     "metadata": {},
     "output_type": "execute_result"
    }
   ],
   "source": [
    "addresses = [\n",
    "    '5412 n clark st',\n",
    "    '5412 w addision st',\n",
    "    '5412 w granville ave',\n",
    "    '5412 w clark st',\n",
    "    '5412 w broadway',\n",
    "]\n",
    "[addr for addr in addresses if fnmatchcase(addr, '54[0-9][0-9] *clark*')]"
   ]
  },
  {
   "cell_type": "code",
   "execution_count": 17,
   "metadata": {},
   "outputs": [
    {
     "name": "stdout",
     "output_type": "stream",
     "text": [
      "10\n"
     ]
    }
   ],
   "source": [
    "text = 'yeah, but no, but yeah, but no, but yeah'\n",
    "print(text.find('no'))"
   ]
  },
  {
   "cell_type": "code",
   "execution_count": 21,
   "metadata": {},
   "outputs": [
    {
     "data": {
      "text/plain": [
       "True"
      ]
     },
     "execution_count": 21,
     "metadata": {},
     "output_type": "execute_result"
    }
   ],
   "source": [
    "import re \n",
    "text1 = '18/11/2002'\n",
    "text2 = 'Nov 27, 2002'\n",
    "\n",
    "bool(re.match(r'\\d+/\\d+/\\d+', text1))"
   ]
  },
  {
   "cell_type": "code",
   "execution_count": 8,
   "metadata": {},
   "outputs": [
    {
     "name": "stdout",
     "output_type": "stream",
     "text": [
      "('1', '1', '1')\n"
     ]
    }
   ],
   "source": [
    "text1 = '1/1/1 2/2/2'\n",
    "pattern = re.compile(r'(\\d+)/(\\d+)/(\\d+)')\n",
    "groups = pattern.match(text1)\n",
    "print(groups.groups())"
   ]
  },
  {
   "cell_type": "code",
   "execution_count": 22,
   "metadata": {},
   "outputs": [
    {
     "name": "stdout",
     "output_type": "stream",
     "text": [
      "yes\n"
     ]
    }
   ],
   "source": [
    "datepat = re.compile(r'\\d+/\\d+/\\d+')\n",
    "if datepat.match(text1):\n",
    "    print(\"yes\")"
   ]
  },
  {
   "cell_type": "code",
   "execution_count": 18,
   "metadata": {},
   "outputs": [
    {
     "data": {
      "text/plain": [
       "['11/27/2012', '3/13/2013']"
      ]
     },
     "execution_count": 18,
     "metadata": {},
     "output_type": "execute_result"
    }
   ],
   "source": [
    "datepat = re.compile(r'\\d+/\\d+/\\d+')\n",
    "text = 'Today is 11/27/2012. PyCon starts 3/13/2013.'\n",
    "datepat.findall(text)"
   ]
  },
  {
   "cell_type": "code",
   "execution_count": 38,
   "metadata": {},
   "outputs": [
    {
     "name": "stdout",
     "output_type": "stream",
     "text": [
      "11-27-2012\n"
     ]
    }
   ],
   "source": [
    "datapat = re.compile(r'(\\d+)/(\\d+)/(\\d+)')\n",
    "matches = datapat.findall(text)\n",
    "print('{}-{}-{}'.format(*matches[0]))"
   ]
  },
  {
   "cell_type": "code",
   "execution_count": 41,
   "metadata": {},
   "outputs": [
    {
     "name": "stdout",
     "output_type": "stream",
     "text": [
      "Today is 2012-11-27a. PyCon starts 2013-3-13.\n"
     ]
    }
   ],
   "source": [
    "# replace string \n",
    "text2 = 'yeah, but no, but yeah, but no, but yeah'\n",
    "text2.replace('yeah', 'yep')\n",
    "\n",
    "# more complex pattern matching \n",
    "\n",
    "import re \n",
    "result = re.sub(r'(\\d+)/(\\d+)/(\\d+)', r'\\3-\\1-\\2', text) \n",
    "print(result)\n",
    "# \\3 represent the third group "
   ]
  },
  {
   "cell_type": "code",
   "execution_count": 69,
   "metadata": {},
   "outputs": [
    {
     "data": {
      "text/plain": [
       "1"
      ]
     },
     "execution_count": 69,
     "metadata": {},
     "output_type": "execute_result"
    }
   ],
   "source": [
    "import calendar\n",
    "calendar.EPOCH\n",
    "calendar.SUNDAY\n",
    "calendar.January"
   ]
  },
  {
   "cell_type": "code",
   "execution_count": 25,
   "metadata": {},
   "outputs": [
    {
     "data": {
      "text/plain": [
       "'Today is 27 Nov 2012. PyCon starts 13 Mar 2013.'"
      ]
     },
     "execution_count": 25,
     "metadata": {},
     "output_type": "execute_result"
    }
   ],
   "source": [
    "pattern = re.compile(r'(\\d+)/(\\d+)/(\\d+)')\n",
    "from calendar import month_abbr\n",
    "\n",
    "def matched_pattern(m):\n",
    "    return '{} {} {}'.format(m.group(2), month_abbr[int(m.group(1))], m.group(3))\n",
    "pattern.sub(matched_pattern, text)"
   ]
  },
  {
   "cell_type": "code",
   "execution_count": 6,
   "metadata": {},
   "outputs": [
    {
     "data": {
      "text/plain": [
       "'UPPER snake, lower snake,  Mixed snake'"
      ]
     },
     "execution_count": 6,
     "metadata": {},
     "output_type": "execute_result"
    }
   ],
   "source": [
    "text = 'UPPER PYTHON, lower python,  Mixed Python'\n",
    "import re \n",
    "re.findall('.ython', text, flags=re.IGNORECASE)\n",
    "re.sub('python', 'snake', text, flags=re.IGNORECASE)\n",
    "#  it has limitation that it will not preserve the case of the replaced one "
   ]
  },
  {
   "cell_type": "code",
   "execution_count": 7,
   "metadata": {},
   "outputs": [],
   "source": [
    "def matchcase(word):\n",
    "    def replace(m):\n",
    "        text = m.group()\n",
    "        if text.isupper():\n",
    "            return word.upper()\n",
    "        elif text.islower():\n",
    "            return word.lower()\n",
    "        elif text[0].isupper():\n",
    "            return word.capitalize()\n",
    "        else:\n",
    "            return word \n",
    "    return replace \n"
   ]
  },
  {
   "cell_type": "code",
   "execution_count": 26,
   "metadata": {},
   "outputs": [
    {
     "data": {
      "text/plain": [
       "'Today is 11/27/2012. PyCon starts 3/13/2013.'"
      ]
     },
     "execution_count": 26,
     "metadata": {},
     "output_type": "execute_result"
    }
   ],
   "source": [
    "pattern = re.compile('python')\n",
    "re.sub('python', matchcase('snake'), text, flags=re.IGNORECASE)"
   ]
  },
  {
   "cell_type": "code",
   "execution_count": 32,
   "metadata": {},
   "outputs": [
    {
     "data": {
      "text/plain": [
       "['no.', 'yes.']"
      ]
     },
     "execution_count": 32,
     "metadata": {},
     "output_type": "execute_result"
    }
   ],
   "source": [
    "str_pat = re.compile(r'\"(.*?)\"')\n",
    "# * is gready so it fetch the largest result \n",
    "#  but *? make it non greedy so it take smallest result \n",
    "text1 = 'Computer says \"no.\"'\n",
    "text2 = 'Computer says \"no.\" Phone says \"yes.\"'\n",
    "str_pat.findall(text1)\n",
    "str_pat.findall(text2)"
   ]
  },
  {
   "cell_type": "code",
   "execution_count": 33,
   "metadata": {},
   "outputs": [],
   "source": [
    "# matching with multiline comments"
   ]
  },
  {
   "cell_type": "code",
   "execution_count": null,
   "metadata": {},
   "outputs": [],
   "source": []
  }
 ],
 "metadata": {
  "interpreter": {
   "hash": "77acd330341eda0a136d3e19275f92f44300a3728b143e877dda29376bc84e5a"
  },
  "kernelspec": {
   "display_name": "Python 3.9.7 64-bit ('venv': venv)",
   "language": "python",
   "name": "python3"
  },
  "language_info": {
   "codemirror_mode": {
    "name": "ipython",
    "version": 3
   },
   "file_extension": ".py",
   "mimetype": "text/x-python",
   "name": "python",
   "nbconvert_exporter": "python",
   "pygments_lexer": "ipython3",
   "version": "3.9.7"
  },
  "orig_nbformat": 4
 },
 "nbformat": 4,
 "nbformat_minor": 2
}
